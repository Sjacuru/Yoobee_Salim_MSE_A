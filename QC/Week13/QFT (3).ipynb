{
 "cells": [
  {
   "cell_type": "code",
   "execution_count": null,
   "id": "362ccf2a-603d-4429-9fa1-3e8c68f0e292",
   "metadata": {},
   "outputs": [
    {
     "ename": "",
     "evalue": "",
     "output_type": "error",
     "traceback": [
      "\u001b[1;31mRunning cells with 'qiskit-env (Python 3.11.13)' requires the ipykernel package.\n",
      "\u001b[1;31m<a href='command:jupyter.createPythonEnvAndSelectController'>Create a Python Environment</a> with the required packages.\n",
      "\u001b[1;31mOr install 'ipykernel' using the command: 'conda install -n qiskit-env ipykernel --update-deps --force-reinstall'"
     ]
    }
   ],
   "source": [
    "import numpy as np\n",
    "import matplotlib.pyplot as plt\n",
    "\n",
    "# Parameters\n",
    "N = 8  # Number of samples\n",
    "t = np.arange(N)  # Time indices\n",
    "\n",
    "# Create a signal with two frequencies\n",
    "signal = 1 * np.sin(2 * np.pi * 1 * t / N) + 0.5 * np.sin(2 * np.pi * 3 * t / N)\n",
    "\n",
    "# Plot the signal\n",
    "plt.figure(figsize=(10, 4))\n",
    "plt.stem(t, signal)\n",
    "plt.title(\"Time Domain Signal\")\n",
    "plt.xlabel(\"Sample\")\n",
    "plt.ylabel(\"Amplitude\")\n",
    "plt.grid()\n",
    "plt.show()\n",
    "\n",
    "# DFT implementation\n",
    "def dft(x):\n",
    "    N = len(x)\n",
    "    X = np.zeros(N, dtype=complex)\n",
    "    for k in range(N):\n",
    "        for n in range(N):\n",
    "            X[k] += x[n] * np.exp(-2j * np.pi * k * n / N)\n",
    "    return X\n",
    "\n",
    "# Compute DFT\n",
    "X_manual = dft(signal)\n",
    "\n",
    "# Compute FFT using NumPy\n",
    "X_numpy = np.fft.fft(signal)\n",
    "\n",
    "# Display the results\n",
    "print(\"DFT (manual implementation):\")\n",
    "for k in range(N):\n",
    "    print(f\"X[{k}] = {X_manual[k]}\")\n",
    "\n",
    "print(\"\\nDFT (NumPy FFT):\")\n",
    "for k in range(N):\n",
    "    print(f\"X[{k}] = {X_numpy[k]}\")\n",
    "\n",
    "# Compute the magnitude spectrum\n",
    "magnitude_manual = np.abs(X_manual)\n",
    "magnitude_numpy = np.abs(X_numpy)\n",
    "\n",
    "# Plot the magnitude spectrum\n",
    "plt.figure(figsize=(10, 4))\n",
    "plt.stem(t, magnitude_manual, 'b', markerfmt=\"bo\", label='Manual DFT')\n",
    "#plt.stem(t, magnitude_numpy, 'r', markerfmt=\"ro\", label='NumPy FFT', linefmt='r--')\n",
    "plt.title(\"Magnitude Spectrum\")\n",
    "plt.xlabel(\"Frequency Bin\")\n",
    "plt.ylabel(\"Magnitude\")\n",
    "plt.legend()\n",
    "plt.grid()\n",
    "plt.show()\n",
    "\n"
   ]
  },
  {
   "cell_type": "code",
   "execution_count": null,
   "id": "c495943b-d391-4cd9-871d-975fe9e8d7f3",
   "metadata": {},
   "outputs": [],
   "source": [
    "from qiskit import QuantumCircuit\n",
    "from qiskit.quantum_info import Statevector\n",
    "from qiskit.visualization import plot_bloch_multivector\n",
    "from qiskit_aer import AerSimulator\n",
    "from qiskit.visualization import plot_histogram, plot_state_city\n",
    "import numpy as np\n",
    "\n",
    "# Function to create QFT circuit\n",
    "def qft_circuit(n):\n",
    "    qc = QuantumCircuit(n)\n",
    "    \n",
    "    # Apply QFT\n",
    "    for j in range(n):\n",
    "        qc.h(j)\n",
    "        for k in range(j+1, n):\n",
    "            qc.cp(np.pi / 2**(k-j), j, k)\n",
    "    \n",
    "    # Swap qubits for QFT order\n",
    "    for j in range(n//2):\n",
    "        qc.swap(j, n-j-1)\n",
    "    \n",
    "    return qc\n",
    "\n",
    "# Create a QFT circuit for 2 qubits\n",
    "n = 2\n",
    "qc1 = qft_circuit(n)\n",
    "qc1.draw('mpl')"
   ]
  },
  {
   "cell_type": "code",
   "execution_count": null,
   "id": "e92ecc59-1173-43ac-9ccd-7a4bbe449a65",
   "metadata": {},
   "outputs": [],
   "source": [
    "from qiskit import QuantumCircuit\n",
    "from qiskit.quantum_info import Statevector\n",
    "from qiskit.visualization import plot_bloch_multivector\n",
    "from qiskit_aer import AerSimulator\n",
    "from qiskit.visualization import plot_histogram, plot_state_city\n",
    "import numpy as np\n",
    "\n",
    "# Function to create QFT circuit\n",
    "def qft_circuit(n):\n",
    "    qc = QuantumCircuit(n)\n",
    "    \n",
    "    # Apply QFT\n",
    "    for j in range(n):\n",
    "        qc.h(j)\n",
    "        for k in range(j+1, n):\n",
    "            qc.cp(np.pi / 2**(k-j), j, k)\n",
    "    \n",
    "    # Swap qubits for QFT order\n",
    "    for j in range(n//2):\n",
    "        qc.swap(j, n-j-1)\n",
    "    \n",
    "    return qc\n",
    "\n",
    "# Initialize the quantum circuit with an initial state\n",
    "initial_state = [1/np.sqrt(2), 0, 0, 0, 0, 0, 0, 1/np.sqrt(2)] \n",
    "#initial_state = [1/np.sqrt(2), 0, 0, 1/np.sqrt(2)]  # Example initial state\n",
    "n = 3\n",
    "\n",
    "# Create a quantum circuit with the initial state\n",
    "qc_init = QuantumCircuit(n)\n",
    "qc_init.initialize(initial_state, [0, 1,2])\n",
    "qc_init.compose(qft_circuit(n), qubits=[0, 1,2], inplace=True)  # Using compose method\n",
    "# Measure all qubits\n",
    "qc_init.measure_all()\n",
    "\n",
    "\n",
    "simulator = AerSimulator()\n",
    "# Simulate the circuit\n",
    "job = simulator.run(qc_init, shots=100)\n",
    "\n",
    "# Get the result\n",
    "result = job.result()\n",
    "\n",
    "# Print the counts\n",
    "print(result.get_counts(qc_init))\n",
    "\n",
    "# Visualize the circuit\n",
    "print(qc_init)\n",
    "\n",
    "# Visualize the measurement outcomes\n",
    "plot_histogram(result.get_counts(qc_init))\n",
    "\n",
    "#statevector = Statevector(qc_init)\n",
    "# Print the state vector\n",
    "print(\"State Vector:\")\n",
    "#print(statevector)\n",
    "\n",
    "# Visualize the state vector\n",
    "#plot_state_city(statevector)"
   ]
  },
  {
   "cell_type": "code",
   "execution_count": null,
   "id": "45cfa373-3c56-45c3-9d88-36d3dd90fdf6",
   "metadata": {},
   "outputs": [],
   "source": [
    "qc = QuantumCircuit(3)"
   ]
  },
  {
   "cell_type": "code",
   "execution_count": null,
   "id": "15534c4c-0026-41f0-9572-79f18edbb16f",
   "metadata": {},
   "outputs": [],
   "source": [
    "qc.h(2)\n",
    "qc.draw('mpl')"
   ]
  },
  {
   "cell_type": "code",
   "execution_count": null,
   "id": "2be78470-704d-4442-85c8-00ab6877f4e1",
   "metadata": {},
   "outputs": [],
   "source": [
    "qc.cp(np.pi/2, 1, 2) # CROT from qubit 1 to qubit 2\n",
    "qc.draw('mpl')"
   ]
  },
  {
   "cell_type": "code",
   "execution_count": null,
   "id": "619db652-69b4-4354-a045-97a5b9393696",
   "metadata": {},
   "outputs": [],
   "source": [
    "qc.cp(np.pi/4, 0, 2) # CROT from qubit 0 to qubit 2\n",
    "qc.draw('mpl')"
   ]
  },
  {
   "cell_type": "code",
   "execution_count": null,
   "id": "19d00166-eaad-4a1f-a36c-d3dc4884556a",
   "metadata": {},
   "outputs": [],
   "source": [
    "qc.h(1)\n",
    "qc.cp(np.pi/2, 0, 1) # CROT from qubit 0 to qubit 1\n",
    "qc.h(0)\n",
    "qc.draw('mpl')"
   ]
  },
  {
   "cell_type": "code",
   "execution_count": null,
   "id": "342a88b9-da88-40ad-89af-7999d21f3c53",
   "metadata": {},
   "outputs": [],
   "source": [
    "qc.swap(0,2)\n",
    "qc.draw('mpl')"
   ]
  },
  {
   "cell_type": "code",
   "execution_count": null,
   "id": "8a9b07e1-cae5-4cdd-aefb-49aa6905e9de",
   "metadata": {},
   "outputs": [],
   "source": [
    "from qiskit.visualization import array_to_latex\n",
    "simulator = AerSimulator()\n",
    "# Simulate the circuit\n",
    "job = simulator.run(qc, shots=10000)\n",
    "\n",
    "# Get the result\n",
    "result = job.result()\n",
    "\n",
    "\n",
    "statevector = Statevector(qc)\n",
    "\n",
    "#statevector = Statevector(qc_init)\n",
    "# Print the state vector\n",
    "print(\"State Vector:\")\n",
    "print(statevector)\n",
    "statevector.draw(\"latex\")\n"
   ]
  },
  {
   "cell_type": "code",
   "execution_count": null,
   "id": "b31d040d-3cbc-4bee-958e-f4b12b2f650a",
   "metadata": {},
   "outputs": [],
   "source": [
    "qc = QuantumCircuit(2)\n",
    "qc.h(1)\n",
    "qc.cp(np.pi/2, 0, 1)\n",
    "qc.h(0)\n",
    "qc.swap(0,1)\n",
    "qc.draw('mpl')"
   ]
  },
  {
   "cell_type": "code",
   "execution_count": null,
   "id": "e1858ac9-c982-401d-8753-6ba6467cb0ca",
   "metadata": {},
   "outputs": [],
   "source": [
    "simulator = AerSimulator()\n",
    "# Simulate the circuit\n",
    "job = simulator.run(qc, shots=10000)\n",
    "\n",
    "# Get the result\n",
    "result = job.result()\n",
    "\n",
    "\n",
    "statevector = Statevector(qc)\n",
    "\n",
    "#statevector = Statevector(qc_init)\n",
    "# Print the state vector\n",
    "print(\"State Vector:\")\n",
    "print(statevector)\n",
    "statevector.draw(\"latex\")"
   ]
  },
  {
   "cell_type": "code",
   "execution_count": null,
   "id": "3db01daf-2d33-4973-8cb5-b8643d283f7b",
   "metadata": {},
   "outputs": [],
   "source": [
    "qc = QuantumCircuit(2)\n",
    "qc.x(0)\n",
    "qc.h(1)\n",
    "qc.cp(np.pi/2, 0, 1)\n",
    "qc.h(0)\n",
    "qc.swap(0,1)\n",
    "qc.draw('mpl')"
   ]
  },
  {
   "cell_type": "code",
   "execution_count": null,
   "id": "372677e2-5200-46e0-b735-790c218cb7fb",
   "metadata": {},
   "outputs": [],
   "source": [
    "simulator = AerSimulator()\n",
    "# Simulate the circuit\n",
    "job = simulator.run(qc, shots=10000)\n",
    "\n",
    "# Get the result\n",
    "result = job.result()\n",
    "\n",
    "\n",
    "statevector = Statevector(qc)\n",
    "\n",
    "#statevector = Statevector(qc_init)\n",
    "# Print the state vector\n",
    "print(\"State Vector:\")\n",
    "print(statevector)\n",
    "statevector.draw(\"latex\")"
   ]
  },
  {
   "cell_type": "code",
   "execution_count": null,
   "id": "94cc48dd-33fc-4695-a996-931729067c7b",
   "metadata": {},
   "outputs": [],
   "source": [
    "qc = QuantumCircuit(2)\n",
    "qc.x(1)\n",
    "qc.h(1)\n",
    "qc.cp(np.pi/2, 0, 1)\n",
    "qc.h(0)\n",
    "qc.swap(0,1)\n",
    "qc.draw('mpl')"
   ]
  },
  {
   "cell_type": "code",
   "execution_count": null,
   "id": "2c325b9a-e356-49a6-baa7-33c5acc1859f",
   "metadata": {},
   "outputs": [],
   "source": [
    "simulator = AerSimulator()\n",
    "# Simulate the circuit\n",
    "job = simulator.run(qc, shots=10000)\n",
    "\n",
    "# Get the result\n",
    "result = job.result()\n",
    "\n",
    "\n",
    "statevector = Statevector(qc)\n",
    "\n",
    "#statevector = Statevector(qc_init)\n",
    "# Print the state vector\n",
    "print(\"State Vector:\")\n",
    "print(statevector)\n",
    "statevector.draw(\"latex\")"
   ]
  },
  {
   "cell_type": "code",
   "execution_count": null,
   "id": "5fb6b1ca-500a-4e2f-9c44-ba4143765889",
   "metadata": {},
   "outputs": [],
   "source": [
    "qc = QuantumCircuit(2)\n",
    "qc.x(0)\n",
    "qc.x(1)\n",
    "qc.h(1)\n",
    "qc.cp(np.pi/2, 0, 1)\n",
    "qc.h(0)\n",
    "qc.swap(0,1)\n",
    "qc.draw('mpl')"
   ]
  },
  {
   "cell_type": "code",
   "execution_count": null,
   "id": "b5186890-c0b5-4366-b044-47f7d471a616",
   "metadata": {},
   "outputs": [],
   "source": [
    "simulator = AerSimulator()\n",
    "# Simulate the circuit\n",
    "job = simulator.run(qc, shots=10000)\n",
    "\n",
    "# Get the result\n",
    "result = job.result()\n",
    "\n",
    "\n",
    "statevector = Statevector(qc)\n",
    "\n",
    "#statevector = Statevector(qc_init)\n",
    "# Print the state vector\n",
    "print(\"State Vector:\")\n",
    "print(statevector)\n",
    "statevector.draw(\"latex\")"
   ]
  },
  {
   "cell_type": "code",
   "execution_count": null,
   "id": "0031d133-fc98-4caa-af61-5b3a503e7f59",
   "metadata": {},
   "outputs": [],
   "source": []
  }
 ],
 "metadata": {
  "kernelspec": {
   "display_name": "qiskit-env",
   "language": "python",
   "name": "python3"
  },
  "language_info": {
   "codemirror_mode": {
    "name": "ipython",
    "version": 3
   },
   "file_extension": ".py",
   "mimetype": "text/x-python",
   "name": "python",
   "nbconvert_exporter": "python",
   "pygments_lexer": "ipython3",
   "version": "3.11.13"
  }
 },
 "nbformat": 4,
 "nbformat_minor": 5
}
