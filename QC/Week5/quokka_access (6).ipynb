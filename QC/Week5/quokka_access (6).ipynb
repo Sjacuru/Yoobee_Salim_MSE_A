{
 "cells": [
  {
   "cell_type": "code",
   "execution_count": 1,
   "id": "151dc7e9-1912-4417-8b1e-6011b4106f55",
   "metadata": {},
   "outputs": [
    {
     "name": "stdout",
     "output_type": "stream",
     "text": [
      "OPENQASM 2.0;\n",
      "include \"qelib1.inc\";\n",
      "qreg q[2];\n",
      "creg c[2];\n",
      "h q[0];\n",
      "cx q[0],q[1];\n",
      "measure q[0] -> c[0];\n",
      "measure q[1] -> c[1];\n"
     ]
    }
   ],
   "source": [
    "import qiskit.qasm2\n",
    "from qiskit.circuit import QuantumCircuit\n",
    " \n",
    "qc = QuantumCircuit(2, 2)\n",
    "qc.h(0)\n",
    "qc.cx(0, 1)\n",
    "qc.measure([0, 1], [0, 1])\n",
    "print(qiskit.qasm2.dumps(qc))"
   ]
  },
  {
   "cell_type": "code",
   "execution_count": 2,
   "id": "79f5087c-2010-4508-9578-7bd422fb9660",
   "metadata": {},
   "outputs": [],
   "source": [
    "qiskit.qasm2.dump(qc, \"myfile.qasm\")"
   ]
  },
  {
   "cell_type": "code",
   "execution_count": 3,
   "id": "dee10d2d-d570-40aa-9199-2d077a969090",
   "metadata": {},
   "outputs": [
    {
     "name": "stdout",
     "output_type": "stream",
     "text": [
      "     ┌───┐     ┌─┐   \n",
      "q_0: ┤ H ├──■──┤M├───\n",
      "     └───┘┌─┴─┐└╥┘┌─┐\n",
      "q_1: ─────┤ X ├─╫─┤M├\n",
      "          └───┘ ║ └╥┘\n",
      "c: 2/═══════════╩══╩═\n",
      "                0  1 \n"
     ]
    }
   ],
   "source": [
    "import qiskit.qasm2\n",
    "circuit = qiskit.qasm2.load(\"myfile.qasm\")\n",
    "print(circuit)"
   ]
  },
  {
   "cell_type": "code",
   "execution_count": 4,
   "id": "021f45f4-851e-4a6e-b64d-ff5203690d08",
   "metadata": {},
   "outputs": [],
   "source": [
    "# the usual imports\n",
    "import qiskit\n",
    "import qiskit.qasm2\n",
    "import numpy as np\n",
    "import requests\n",
    "import os\n",
    "import json\n",
    "#from google.colab import files\n",
    "\n",
    "# current Quokka address:\n",
    "req_str_qasm = 'http://quokka3.quokkacomputing.com/qsim/qasm'"
   ]
  },
  {
   "cell_type": "code",
   "execution_count": 5,
   "id": "2b0d649f-2c70-4cdd-be66-e985d2448b3c",
   "metadata": {},
   "outputs": [
    {
     "name": "stdout",
     "output_type": "stream",
     "text": [
      "OPENQASM 2.0;\n",
      "qreg q[2];\n",
      "creg c[2];\n",
      "h q[0];\n",
      "cx q[0],q[1];\n",
      "measure q[0] -> c[0];\n",
      "measure q[1] -> c[1];\n"
     ]
    }
   ],
   "source": [
    "code = qiskit.qasm2.dumps(circuit)\n",
    "\n",
    "# by default, qiskit includes a library of gates not installed on the Quokka\n",
    "# this code removes that\n",
    "code = code[:14] + code[(14 + 22):]\n",
    "\n",
    "print(code)"
   ]
  },
  {
   "cell_type": "code",
   "execution_count": null,
   "id": "af9c0cf1-8077-4f03-afd2-03a5e9c8d241",
   "metadata": {},
   "outputs": [
    {
     "ename": "SyntaxError",
     "evalue": "unterminated string literal (detected at line 5) (4098128170.py, line 5)",
     "output_type": "error",
     "traceback": [
      "\u001b[1;36m  Cell \u001b[1;32mIn[6], line 5\u001b[1;36m\u001b[0m\n\u001b[1;33m    Here's a breakdown of what happens:\u001b[0m\n\u001b[1;37m        ^\u001b[0m\n\u001b[1;31mSyntaxError\u001b[0m\u001b[1;31m:\u001b[0m unterminated string literal (detected at line 5)\n"
     ]
    }
   ],
   "source": [
    "code = qiskit.qasm2.dumps(circuit): '''This line generates a QASM string representation of a given quantum circuit (circuit) \n",
    "using the dumps() function provided by Qiskit for QASM version 2.0.''' \n",
    "code = code[:14] + code[(14 + 22):]: '''This line removes a portion of the QASM string that corresponds to a library of gates not \n",
    "installed on a specific quantum device (referred to as \"Quokka\" in the comment).\n",
    "Here's a breakdown of what happens:'''\n",
    "code[:14]: '''This part extracts the substring from the beginning of the code string up to the 14th character (excluding the 14th character).\n",
    "code[(14 + 22):]: This part extracts the substring starting from the character at index 36 (which is the sum of 14 and 22) \n",
    "to the end of the code string.\n",
    "By combining these two substrings, the code effectively removes the portion of the QASM string that corresponds to the library of gates.'''"
   ]
  },
  {
   "cell_type": "code",
   "execution_count": null,
   "id": "371dc875",
   "metadata": {},
   "outputs": [
    {
     "ename": "SyntaxError",
     "evalue": "unterminated string literal (detected at line 5) (4098128170.py, line 5)",
     "output_type": "error",
     "traceback": [
      "\u001b[1;36m  Cell \u001b[1;32mIn[6], line 5\u001b[1;36m\u001b[0m\n",
      "\u001b[1;33m    Here's a breakdown of what happens:\u001b[0m\n",
      "\u001b[1;37m        ^\u001b[0m\n",
      "\u001b[1;31mSyntaxError\u001b[0m\u001b[1;31m:\u001b[0m unterminated string literal (detected at line 5)\n"
     ]
    }
   ],
   "source": [
    "code = qiskit.qasm2.dumps(circuit): '''This line generates a QASM string representation of a given quantum circuit (circuit) \n",
    "using the dumps() function provided by Qiskit for QASM version 2.0.''' \n",
    "code = code[:14] + code[(14 + 22):]: '''This line removes a portion of the QASM string that corresponds to a library of gates not \n",
    "installed on a specific quantum device (referred to as \"Quokka\" in the comment).\n",
    "Here's a breakdown of what happens:'''\n",
    "code[:14]: '''This part extracts the substring from the beginning of the code string up to the 14th character (excluding the 14th character).\n",
    "code[(14 + 22):]: This part extracts the substring starting from the character at index 36 (which is the sum of 14 and 22) \n",
    "to the end of the code string.\n",
    "By combining these two substrings, the code effectively removes the portion of the QASM string that corresponds to the library of gates.'''"
   ]
  },
  {
   "cell_type": "code",
   "execution_count": null,
   "id": "ba05a7e8-2cce-4792-ac3a-444cf86f8a55",
   "metadata": {},
   "outputs": [
    {
     "name": "stdout",
     "output_type": "stream",
     "text": [
      "{'error': 'no error', 'error_code': 0, 'result': {'c': [[0, 0], [0, 0], [0, 0], [0, 0], [1, 1], [0, 0], [0, 0], [0, 0], [1, 1], [1, 1]]}}\n"
     ]
    }
   ],
   "source": [
    "data = {\n",
    "    'script': code,\n",
    "    'count': 10\n",
    "}\n",
    "\n",
    "result = requests.post(req_str_qasm, json=data)\n",
    "json_obj = json.loads(result.content)\n",
    "\n",
    "print(json_obj)"
   ]
  },
  {
   "cell_type": "code",
   "execution_count": null,
   "id": "f646ff36-0522-4fde-8d47-88103b7e2733",
   "metadata": {},
   "outputs": [
    {
     "name": "stdout",
     "output_type": "stream",
     "text": [
      "[1, 1, 0, 0, 1, 1, 1, 1, 0, 0, 0, 0, 0, 0, 1, 1, 1, 1, 0, 0]\n"
     ]
    }
   ],
   "source": [
    "bits = list(np.concatenate(list(json_obj['result'].values())).flat)\n",
    "\n",
    "print(bits)"
   ]
  },
  {
   "cell_type": "code",
   "execution_count": null,
   "id": "fba8f78a-81ef-4e52-b439-d90f457d5f23",
   "metadata": {},
   "outputs": [
    {
     "name": "stdout",
     "output_type": "stream",
     "text": [
      "Collecting randtest\n",
      "  Downloading randtest-0.7.tar.gz (4.8 kB)\n",
      "  Preparing metadata (setup.py): started\n",
      "  Preparing metadata (setup.py): finished with status 'done'\n",
      "Requirement already satisfied: numpy in c:\\users\\hd\\anaconda3\\envs\\mse800_salim\\lib\\site-packages (from randtest) (1.26.4)\n",
      "Building wheels for collected packages: randtest\n",
      "  Building wheel for randtest (setup.py): started\n",
      "  Building wheel for randtest (setup.py): finished with status 'done'\n",
      "  Created wheel for randtest: filename=randtest-0.7-py3-none-any.whl size=3007 sha256=ba03f6e60d345bc95a44f184263231a2f44938314ab6a46d065433973b7c077b\n",
      "  Stored in directory: c:\\users\\hd\\appdata\\local\\pip\\cache\\wheels\\ed\\cf\\54\\65e9a565b66db1c2032592a84c5618643dc14795f7b48bbfab\n",
      "Successfully built randtest\n",
      "Installing collected packages: randtest\n",
      "Successfully installed randtest-0.7\n"
     ]
    },
    {
     "name": "stderr",
     "output_type": "stream",
     "text": [
      "  DEPRECATION: Building 'randtest' using the legacy setup.py bdist_wheel mechanism, which will be removed in a future version. pip 25.3 will enforce this behaviour change. A possible replacement is to use the standardized build interface by setting the `--use-pep517` option, (possibly combined with `--no-build-isolation`), or adding a `pyproject.toml` file to the source tree of 'randtest'. Discussion can be found at https://github.com/pypa/pip/issues/6334\n"
     ]
    },
    {
     "data": {
      "text/plain": [
       "True"
      ]
     },
     "execution_count": 23,
     "metadata": {},
     "output_type": "execute_result"
    }
   ],
   "source": [
    "!pip install randtest\n",
    "import randtest\n",
    "\n",
    "randtest.random_score(bits)"
   ]
  },
  {
   "cell_type": "code",
   "execution_count": null,
   "id": "a4556951-9385-4b2a-b493-048718587760",
   "metadata": {},
   "outputs": [],
   "source": []
  }
 ],
 "metadata": {
  "kernelspec": {
   "display_name": "MSE800_Salim",
   "language": "python",
   "name": "python3"
  },
  "language_info": {
   "codemirror_mode": {
    "name": "ipython",
    "version": 3
   },
   "file_extension": ".py",
   "mimetype": "text/x-python",
   "name": "python",
   "nbconvert_exporter": "python",
   "pygments_lexer": "ipython3",
   "version": "3.10.18"
  }
 },
 "nbformat": 4,
 "nbformat_minor": 5
}
