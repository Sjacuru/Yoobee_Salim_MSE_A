{
 "cells": [
  {
   "cell_type": "code",
   "execution_count": 3,
   "id": "0a3e2e9b-b606-4b68-b137-d30ad5570ce9",
   "metadata": {},
   "outputs": [
    {
     "name": "stdout",
     "output_type": "stream",
     "text": [
      "{'00': 44, '11': 56}\n",
      "      ┌───┐     ┌─┐   \n",
      "q2_0: ┤ H ├──■──┤M├───\n",
      "      └───┘┌─┴─┐└╥┘┌─┐\n",
      "q2_1: ─────┤ X ├─╫─┤M├\n",
      "           └───┘ ║ └╥┘\n",
      "c1: 2/═══════════╩══╩═\n",
      "                 0  1 \n"
     ]
    }
   ],
   "source": [
    "import numpy as np\n",
    "\n",
    "# Import Qiskit\n",
    "from qiskit import QuantumCircuit, ClassicalRegister, QuantumRegister\n",
    "from qiskit import QuantumCircuit, transpile\n",
    "from qiskit_aer import AerSimulator\n",
    "from qiskit.visualization import plot_histogram, plot_state_city\n",
    "import qiskit.quantum_info as qi\n",
    "from qiskit.quantum_info import Statevector\n",
    "\n",
    "from qiskit.visualization import plot_bloch_multivector\n",
    "from qiskit.quantum_info import DensityMatrix\n",
    "from qiskit.visualization import plot_state_city\n",
    "from qiskit.visualization import plot_state_qsphere\n",
    "\n",
    "simulator = AerSimulator()\n",
    "\n",
    "# Create a quantum register with 4 qubits\n",
    "qr = QuantumRegister(2)\n",
    "\n",
    "# Create a classical register with 4 bits\n",
    "cr = ClassicalRegister(2)\n",
    "\n",
    "# Create a quantum circuit\n",
    "circ = QuantumCircuit(qr, cr)\n",
    "\n",
    "# Create circuit\n",
    "circ.h(qr[0])\n",
    "circ.cx(qr[0], qr[1])\n",
    "\n",
    "#circ.measure_all()\n",
    "circ.measure(qr, cr)\n",
    "simulator = AerSimulator()\n",
    "# Simulate the circuit\n",
    "job = simulator.run(circ, shots=100)\n",
    "\n",
    "# Get the result\n",
    "result = job.result()\n",
    "\n",
    "# Print the counts\n",
    "print(result.get_counts(circ))\n",
    "\n",
    "# Visualize the circuit\n",
    "print(circ)\n",
    "\n"
   ]
  },
  {
   "cell_type": "code",
   "execution_count": 4,
   "id": "c2f0b5d1-524f-4a38-87a4-5cfba943193c",
   "metadata": {},
   "outputs": [
    {
     "ename": "QiskitError",
     "evalue": "'Cannot apply instruction with classical bits: measure'",
     "output_type": "error",
     "traceback": [
      "\u001b[1;31m---------------------------------------------------------------------------\u001b[0m",
      "\u001b[1;31mQiskitError\u001b[0m                               Traceback (most recent call last)",
      "Cell \u001b[1;32mIn[4], line 2\u001b[0m\n\u001b[0;32m      1\u001b[0m \u001b[38;5;28;01mfrom\u001b[39;00m\u001b[38;5;250m \u001b[39m\u001b[38;5;21;01mqiskit\u001b[39;00m\u001b[38;5;21;01m.\u001b[39;00m\u001b[38;5;21;01mquantum_info\u001b[39;00m\u001b[38;5;250m \u001b[39m\u001b[38;5;28;01mimport\u001b[39;00m Statevector\n\u001b[1;32m----> 2\u001b[0m state \u001b[38;5;241m=\u001b[39m \u001b[43mStatevector\u001b[49m\u001b[43m(\u001b[49m\u001b[43mcirc\u001b[49m\u001b[43m)\u001b[49m\n\u001b[0;32m      3\u001b[0m \u001b[38;5;28mprint\u001b[39m(state)\n\u001b[0;32m      4\u001b[0m state\u001b[38;5;241m.\u001b[39mdraw(\u001b[38;5;124m\"\u001b[39m\u001b[38;5;124mlatex\u001b[39m\u001b[38;5;124m\"\u001b[39m)  \u001b[38;5;66;03m# psi is a Statevector object\u001b[39;00m\n",
      "File \u001b[1;32mc:\\Users\\HD\\anaconda3\\envs\\MSE800_Salim\\lib\\site-packages\\qiskit\\quantum_info\\states\\statevector.py:91\u001b[0m, in \u001b[0;36mStatevector.__init__\u001b[1;34m(self, data, dims)\u001b[0m\n\u001b[0;32m     89\u001b[0m     \u001b[38;5;28mself\u001b[39m\u001b[38;5;241m.\u001b[39m_data \u001b[38;5;241m=\u001b[39m np\u001b[38;5;241m.\u001b[39mravel(data\u001b[38;5;241m.\u001b[39mdata)\n\u001b[0;32m     90\u001b[0m \u001b[38;5;28;01melif\u001b[39;00m \u001b[38;5;28misinstance\u001b[39m(data, (QuantumCircuit, Instruction)):\n\u001b[1;32m---> 91\u001b[0m     \u001b[38;5;28mself\u001b[39m\u001b[38;5;241m.\u001b[39m_data \u001b[38;5;241m=\u001b[39m \u001b[43mStatevector\u001b[49m\u001b[38;5;241;43m.\u001b[39;49m\u001b[43mfrom_instruction\u001b[49m\u001b[43m(\u001b[49m\u001b[43mdata\u001b[49m\u001b[43m)\u001b[49m\u001b[38;5;241m.\u001b[39mdata\n\u001b[0;32m     92\u001b[0m \u001b[38;5;28;01melse\u001b[39;00m:\n\u001b[0;32m     93\u001b[0m     \u001b[38;5;28;01mraise\u001b[39;00m QiskitError(\u001b[38;5;124m\"\u001b[39m\u001b[38;5;124mInvalid input data format for Statevector\u001b[39m\u001b[38;5;124m\"\u001b[39m)\n",
      "File \u001b[1;32mc:\\Users\\HD\\anaconda3\\envs\\MSE800_Salim\\lib\\site-packages\\qiskit\\quantum_info\\states\\statevector.py:768\u001b[0m, in \u001b[0;36mStatevector.from_instruction\u001b[1;34m(cls, instruction)\u001b[0m\n\u001b[0;32m    766\u001b[0m init[\u001b[38;5;241m0\u001b[39m] \u001b[38;5;241m=\u001b[39m \u001b[38;5;241m1.0\u001b[39m\n\u001b[0;32m    767\u001b[0m vec \u001b[38;5;241m=\u001b[39m Statevector(init, dims\u001b[38;5;241m=\u001b[39minstruction\u001b[38;5;241m.\u001b[39mnum_qubits \u001b[38;5;241m*\u001b[39m (\u001b[38;5;241m2\u001b[39m,))\n\u001b[1;32m--> 768\u001b[0m \u001b[38;5;28;01mreturn\u001b[39;00m \u001b[43mStatevector\u001b[49m\u001b[38;5;241;43m.\u001b[39;49m\u001b[43m_evolve_instruction\u001b[49m\u001b[43m(\u001b[49m\u001b[43mvec\u001b[49m\u001b[43m,\u001b[49m\u001b[43m \u001b[49m\u001b[43minstruction\u001b[49m\u001b[43m)\u001b[49m\n",
      "File \u001b[1;32mc:\\Users\\HD\\anaconda3\\envs\\MSE800_Salim\\lib\\site-packages\\qiskit\\quantum_info\\states\\statevector.py:952\u001b[0m, in \u001b[0;36mStatevector._evolve_instruction\u001b[1;34m(statevec, obj, qargs)\u001b[0m\n\u001b[0;32m    950\u001b[0m \u001b[38;5;28;01mfor\u001b[39;00m instruction \u001b[38;5;129;01min\u001b[39;00m obj\u001b[38;5;241m.\u001b[39mdefinition:\n\u001b[0;32m    951\u001b[0m     \u001b[38;5;28;01mif\u001b[39;00m instruction\u001b[38;5;241m.\u001b[39mclbits:\n\u001b[1;32m--> 952\u001b[0m         \u001b[38;5;28;01mraise\u001b[39;00m QiskitError(\n\u001b[0;32m    953\u001b[0m             \u001b[38;5;124mf\u001b[39m\u001b[38;5;124m\"\u001b[39m\u001b[38;5;124mCannot apply instruction with classical bits: \u001b[39m\u001b[38;5;132;01m{\u001b[39;00minstruction\u001b[38;5;241m.\u001b[39moperation\u001b[38;5;241m.\u001b[39mname\u001b[38;5;132;01m}\u001b[39;00m\u001b[38;5;124m\"\u001b[39m\n\u001b[0;32m    954\u001b[0m         )\n\u001b[0;32m    955\u001b[0m     \u001b[38;5;66;03m# Get the integer position of the flat register\u001b[39;00m\n\u001b[0;32m    956\u001b[0m     \u001b[38;5;28;01mif\u001b[39;00m qargs \u001b[38;5;129;01mis\u001b[39;00m \u001b[38;5;28;01mNone\u001b[39;00m:\n",
      "\u001b[1;31mQiskitError\u001b[0m: 'Cannot apply instruction with classical bits: measure'"
     ]
    }
   ],
   "source": [
    "from qiskit.quantum_info import Statevector\n",
    "state = Statevector(circ)\n",
    "print(state)\n",
    "state.draw(\"latex\")  # psi is a Statevector object\n",
    "#DensityMatrix(state).draw(\"latex\")  # convert to a DensityMatrix and draw\n",
    "#state.draw(\"city\")\n",
    "#state.draw(\"qsphere\")\n",
    "#plot_bloch_multivector(state)"
   ]
  },
  {
   "cell_type": "code",
   "execution_count": null,
   "id": "65b639a6-08b9-4dd8-aaf7-caf5ae1cc386",
   "metadata": {},
   "outputs": [],
   "source": []
  }
 ],
 "metadata": {
  "kernelspec": {
   "display_name": "MSE800_Salim",
   "language": "python",
   "name": "python3"
  },
  "language_info": {
   "codemirror_mode": {
    "name": "ipython",
    "version": 3
   },
   "file_extension": ".py",
   "mimetype": "text/x-python",
   "name": "python",
   "nbconvert_exporter": "python",
   "pygments_lexer": "ipython3",
   "version": "3.10.18"
  }
 },
 "nbformat": 4,
 "nbformat_minor": 5
}
