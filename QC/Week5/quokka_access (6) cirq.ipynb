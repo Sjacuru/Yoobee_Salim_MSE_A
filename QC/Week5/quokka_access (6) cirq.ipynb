{
 "cells": [
  {
   "cell_type": "code",
   "execution_count": 81,
   "id": "151dc7e9-1912-4417-8b1e-6011b4106f55",
   "metadata": {},
   "outputs": [
    {
     "name": "stdout",
     "output_type": "stream",
     "text": [
      "OPENQASM 2.0;\n",
      "include \"qelib1.inc\";\n",
      "qreg q[2];\n",
      "creg c[2];\n",
      "h q[0];\n",
      "cx q[0],q[1];\n",
      "measure q[0] -> c[0];\n",
      "measure q[1] -> c[1];\n"
     ]
    }
   ],
   "source": [
    "\n",
    "import cirq\n",
    "from qiskit import QuantumCircuit\n",
    "# Define qubits\n",
    "q0, q1 = cirq.LineQubit.range(2)\n",
    "\n",
    "# Build circuit\n",
    "circuit = cirq.Circuit(\n",
    "    cirq.H(q0),\n",
    "    cirq.CNOT(q0, q1),\n",
    "    cirq.measure(q0, q1, key='c')\n",
    ")\n",
    "\n",
    "# Export to QASM\n",
    "qasm_output = cirq.qasm(circuit)\n",
    "\n",
    "# ---- Cleanup: remove comments + blank lines + rename creg ----\n",
    "lines = []\n",
    "for line in qasm_output.splitlines():\n",
    "    line = line.strip()              # remove trailing spaces\n",
    "    if not line:                     # skip empty lines\n",
    "        continue\n",
    "    if line.startswith(\"//\"):        # skip comments\n",
    "        continue\n",
    "    line = line.replace(\"m_c\", \"c\")  # rename classical register\n",
    "    lines.append(line)\n",
    "\n",
    "qasm_clean = \"\\n\".join(lines)\n",
    "print(qasm_clean)\n"
   ]
  },
  {
   "cell_type": "code",
   "execution_count": 82,
   "id": "79f5087c-2010-4508-9578-7bd422fb9660",
   "metadata": {},
   "outputs": [],
   "source": [
    "# Get QASM string\n",
    "qasm_str = cirq.qasm(circuit)\n",
    "\n",
    "# Save to file\n",
    "with open(\"myfile.qasm\", \"w\") as f:\n",
    "    f.write(qasm_str)"
   ]
  },
  {
   "cell_type": "code",
   "execution_count": 83,
   "id": "dee10d2d-d570-40aa-9199-2d077a969090",
   "metadata": {},
   "outputs": [
    {
     "name": "stdout",
     "output_type": "stream",
     "text": [
      "Reloaded circuit from QASM (Qiskit):\n",
      "       ┌───┐     ┌─┐   \n",
      "  q_0: ┤ H ├──■──┤M├───\n",
      "       └───┘┌─┴─┐└╥┘┌─┐\n",
      "  q_1: ─────┤ X ├─╫─┤M├\n",
      "            └───┘ ║ └╥┘\n",
      "m_c: 2/═══════════╩══╩═\n",
      "                  0  1 \n"
     ]
    }
   ],
   "source": [
    "\n",
    "loaded_qiskit_circuit = QuantumCircuit.from_qasm_file(\"myfile.qasm\")\n",
    "print(\"Reloaded circuit from QASM (Qiskit):\")\n",
    "print(loaded_qiskit_circuit)"
   ]
  },
  {
   "cell_type": "code",
   "execution_count": 84,
   "id": "021f45f4-851e-4a6e-b64d-ff5203690d08",
   "metadata": {},
   "outputs": [],
   "source": [
    "# Remove Qiskit and qasm2\n",
    "#import qiskit\n",
    "#import qiskit.qasm2\n",
    "import numpy as np\n",
    "import requests\n",
    "import os\n",
    "import json\n",
    "\n",
    "\n",
    "# current Quokka address:\n",
    "req_str_qasm = 'http://quokka3.quokkacomputing.com/qsim/qasm'"
   ]
  },
  {
   "cell_type": "code",
   "execution_count": 85,
   "id": "2b0d649f-2c70-4cdd-be66-e985d2448b3c",
   "metadata": {},
   "outputs": [
    {
     "name": "stdout",
     "output_type": "stream",
     "text": [
      "{\"schema\": null, \"moments\": [{\"cirq_type\": \"Moment\", \"operations\": [{\"cirq_type\": \"GateOperation\", \"gate\": {\"cirq_type\": \"HPowGate\", \"exponent\": 1.0, \"global_shift\": 0.0}, \"qubits\": [{\"cirq_type\": \"LineQubit\", \"x\": 0}]}]}, {\"cirq_type\": \"Moment\", \"operations\": [{\"cirq_type\": \"GateOperation\", \"gate\": {\"cirq_type\": \"CXPowGate\", \"exponent\": 1.0, \"global_shift\": 0.0}, \"qubits\": [{\"cirq_type\": \"LineQubit\", \"x\": 0}, {\"cirq_type\": \"LineQubit\", \"x\": 1}]}]}, {\"cirq_type\": \"Moment\", \"operations\": [{\"cirq_type\": \"GateOperation\", \"gate\": {\"cirq_type\": \"MeasurementGate\", \"num_qubits\": 2, \"key\": \"c\", \"invert_mask\": []}, \"qubits\": [{\"cirq_type\": \"LineQubit\", \"x\": 0}, {\"cirq_type\": \"LineQubit\", \"x\": 1}]}]}], \"qubits\": null}\n"
     ]
    }
   ],
   "source": [
    "\n",
    "# Build circuit\n",
    "q0, q1 = cirq.LineQubit.range(2)\n",
    "circuit = cirq.Circuit(\n",
    "    cirq.H(q0),\n",
    "    cirq.CNOT(q0, q1),\n",
    "    cirq.measure(q0, q1, key='c')\n",
    ")\n",
    "\n",
    "# Export circuit to JSON\n",
    "circuit_json = cirq.to_json(circuit)\n",
    "\n",
    "# Optional: remove metadata or extra fields if Quokka complains\n",
    "# For example, keep only gates and qubits\n",
    "circuit_dict = json.loads(circuit_json)\n",
    "simplified_circuit_json = json.dumps({\n",
    "    \"schema\": circuit_dict.get(\"schema\"),\n",
    "    \"moments\": circuit_dict.get(\"moments\"),\n",
    "    \"qubits\": circuit_dict.get(\"qubits\")\n",
    "})\n",
    "\n",
    "print(simplified_circuit_json)\n"
   ]
  },
  {
   "cell_type": "code",
   "execution_count": 86,
   "id": "ba05a7e8-2cce-4792-ac3a-444cf86f8a55",
   "metadata": {},
   "outputs": [
    {
     "name": "stdout",
     "output_type": "stream",
     "text": [
      "{\n",
      "  \"error\": \"Syntax error while parsing token \\\"{\\\" in script at line 1\",\n",
      "  \"error_code\": 7,\n",
      "  \"result\": false\n",
      "}\n"
     ]
    }
   ],
   "source": [
    "\n",
    "# --- Prepare request payload ---\n",
    "data = {\n",
    "    'script': simplified_circuit_json,  # send JSON instead of QASM string\n",
    "    'count': 10\n",
    "    }\n",
    "\n",
    "# --- Send to Quokka ---\n",
    "req_str_qasm = 'http://quokka3.quokkacomputing.com/qsim/qasm'\n",
    "response = requests.post(req_str_qasm, json=data)\n",
    "\n",
    "# --- Parse response ---\n",
    "json_obj = response.json()\n",
    "print(json.dumps(json_obj, indent=2))"
   ]
  },
  {
   "cell_type": "code",
   "execution_count": 87,
   "id": "f646ff36-0522-4fde-8d47-88103b7e2733",
   "metadata": {},
   "outputs": [
    {
     "ename": "TypeError",
     "evalue": "'ellipsis' object is not iterable",
     "output_type": "error",
     "traceback": [
      "\u001b[1;31m---------------------------------------------------------------------------\u001b[0m",
      "\u001b[1;31mTypeError\u001b[0m                                 Traceback (most recent call last)",
      "Cell \u001b[1;32mIn[87], line 2\u001b[0m\n\u001b[0;32m      1\u001b[0m json_obj[\u001b[38;5;124m'\u001b[39m\u001b[38;5;124mresult\u001b[39m\u001b[38;5;124m'\u001b[39m] \u001b[38;5;241m=\u001b[39m [[\u001b[38;5;28;01mTrue\u001b[39;00m, \u001b[38;5;28;01mFalse\u001b[39;00m], [\u001b[38;5;28;01mFalse\u001b[39;00m, \u001b[38;5;28;01mTrue\u001b[39;00m], \u001b[38;5;241m.\u001b[39m\u001b[38;5;241m.\u001b[39m\u001b[38;5;241m.\u001b[39m]\n\u001b[1;32m----> 2\u001b[0m bits \u001b[38;5;241m=\u001b[39m [\u001b[38;5;28mint\u001b[39m(b) \u001b[38;5;28;01mfor\u001b[39;00m shot \u001b[38;5;129;01min\u001b[39;00m json_obj[\u001b[38;5;124m'\u001b[39m\u001b[38;5;124mresult\u001b[39m\u001b[38;5;124m'\u001b[39m] \u001b[38;5;28;01mfor\u001b[39;00m b \u001b[38;5;129;01min\u001b[39;00m shot]\n\u001b[0;32m      4\u001b[0m \u001b[38;5;28mprint\u001b[39m(bits)\n",
      "Cell \u001b[1;32mIn[87], line 2\u001b[0m, in \u001b[0;36m<listcomp>\u001b[1;34m(.0)\u001b[0m\n\u001b[0;32m      1\u001b[0m json_obj[\u001b[38;5;124m'\u001b[39m\u001b[38;5;124mresult\u001b[39m\u001b[38;5;124m'\u001b[39m] \u001b[38;5;241m=\u001b[39m [[\u001b[38;5;28;01mTrue\u001b[39;00m, \u001b[38;5;28;01mFalse\u001b[39;00m], [\u001b[38;5;28;01mFalse\u001b[39;00m, \u001b[38;5;28;01mTrue\u001b[39;00m], \u001b[38;5;241m.\u001b[39m\u001b[38;5;241m.\u001b[39m\u001b[38;5;241m.\u001b[39m]\n\u001b[1;32m----> 2\u001b[0m bits \u001b[38;5;241m=\u001b[39m [\u001b[38;5;28mint\u001b[39m(b) \u001b[38;5;28;01mfor\u001b[39;00m shot \u001b[38;5;129;01min\u001b[39;00m json_obj[\u001b[38;5;124m'\u001b[39m\u001b[38;5;124mresult\u001b[39m\u001b[38;5;124m'\u001b[39m] \u001b[38;5;28;01mfor\u001b[39;00m b \u001b[38;5;129;01min\u001b[39;00m shot]\n\u001b[0;32m      4\u001b[0m \u001b[38;5;28mprint\u001b[39m(bits)\n",
      "\u001b[1;31mTypeError\u001b[0m: 'ellipsis' object is not iterable"
     ]
    }
   ],
   "source": [
    "json_obj['result'] = [[True, False], [False, True], ...]\n",
    "bits = [int(b) for shot in json_obj['result'] for b in shot]\n",
    "\n",
    "print(bits)"
   ]
  },
  {
   "cell_type": "code",
   "execution_count": null,
   "id": "fba8f78a-81ef-4e52-b439-d90f457d5f23",
   "metadata": {},
   "outputs": [
    {
     "name": "stdout",
     "output_type": "stream",
     "text": [
      "Requirement already satisfied: randtest in c:\\users\\hd\\anaconda3\\envs\\mse800_salim\\lib\\site-packages (0.7)\n",
      "Requirement already satisfied: numpy in c:\\users\\hd\\anaconda3\\envs\\mse800_salim\\lib\\site-packages (from randtest) (1.26.4)\n",
      "Note: you may need to restart the kernel to use updated packages.\n"
     ]
    },
    {
     "ename": "NameError",
     "evalue": "name 'bits' is not defined",
     "output_type": "error",
     "traceback": [
      "\u001b[1;31m---------------------------------------------------------------------------\u001b[0m",
      "\u001b[1;31mNameError\u001b[0m                                 Traceback (most recent call last)",
      "Cell \u001b[1;32mIn[80], line 4\u001b[0m\n\u001b[0;32m      1\u001b[0m get_ipython()\u001b[38;5;241m.\u001b[39mrun_line_magic(\u001b[38;5;124m'\u001b[39m\u001b[38;5;124mpip\u001b[39m\u001b[38;5;124m'\u001b[39m, \u001b[38;5;124m'\u001b[39m\u001b[38;5;124minstall randtest\u001b[39m\u001b[38;5;124m'\u001b[39m)\n\u001b[0;32m      2\u001b[0m \u001b[38;5;28;01mimport\u001b[39;00m\u001b[38;5;250m \u001b[39m\u001b[38;5;21;01mrandtest\u001b[39;00m\n\u001b[1;32m----> 4\u001b[0m randtest\u001b[38;5;241m.\u001b[39mrandom_score(\u001b[43mbits\u001b[49m)\n",
      "\u001b[1;31mNameError\u001b[0m: name 'bits' is not defined"
     ]
    }
   ],
   "source": [
    "%pip install randtest\n",
    "import randtest\n",
    "\n",
    "randtest.random_score(bits)"
   ]
  },
  {
   "cell_type": "code",
   "execution_count": null,
   "id": "a4556951-9385-4b2a-b493-048718587760",
   "metadata": {},
   "outputs": [],
   "source": []
  }
 ],
 "metadata": {
  "kernelspec": {
   "display_name": "MSE800_Salim",
   "language": "python",
   "name": "python3"
  },
  "language_info": {
   "codemirror_mode": {
    "name": "ipython",
    "version": 3
   },
   "file_extension": ".py",
   "mimetype": "text/x-python",
   "name": "python",
   "nbconvert_exporter": "python",
   "pygments_lexer": "ipython3",
   "version": "3.10.18"
  }
 },
 "nbformat": 4,
 "nbformat_minor": 5
}
